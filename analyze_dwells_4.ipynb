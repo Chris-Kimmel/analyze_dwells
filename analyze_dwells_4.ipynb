{
 "cells": [
  {
   "cell_type": "markdown",
   "metadata": {},
   "source": [
    "# Analyze dwell times (notebook 4)\n",
    "\n",
    "This notebook explores distributional dwell time differences between Trizol A and IVT.\n",
    "It produces plots of several variables with respect to genomic nucleotide position. These variables are:\n",
    "* IVT median dwell-time\n",
    "* Trizol dwell-time\n",
    "* IVT coverage depth\n",
    "* Trizol coverage depth\n",
    "* KS test $p$-value\n",
    "* KS test statistic\n",
    "* U test $p$-value\n",
    "* U test statistic\n",
    "\n",
    "**Input:** CSV file describing and comparing dwell-time distributions on a per-read per-position basis (the output from `analyze_dwells_2.ipynb`)\n",
    "\n",
    "**Output:** line plots"
   ]
  }
 ],
 "metadata": {
  "kernelspec": {
   "display_name": "\"tombo2\" conda environment",
   "language": "python",
   "name": "tombo2"
  },
  "language_info": {
   "codemirror_mode": {
    "name": "ipython",
    "version": 2
   },
   "file_extension": ".py",
   "mimetype": "text/x-python",
   "name": "python",
   "nbconvert_exporter": "python",
   "pygments_lexer": "ipython2",
   "version": "2.7.17"
  }
 },
 "nbformat": 4,
 "nbformat_minor": 4
}
